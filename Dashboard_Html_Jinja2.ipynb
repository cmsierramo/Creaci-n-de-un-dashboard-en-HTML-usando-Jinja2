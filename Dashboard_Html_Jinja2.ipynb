{
  "nbformat": 4,
  "nbformat_minor": 0,
  "metadata": {
    "colab": {
      "name": "Untitled0.ipynb",
      "provenance": [],
      "authorship_tag": "ABX9TyMmWYHnOAibgM/syIAU1bPa",
      "include_colab_link": true
    },
    "kernelspec": {
      "name": "python3",
      "display_name": "Python 3"
    }
  },
  "cells": [
    {
      "cell_type": "markdown",
      "metadata": {
        "id": "view-in-github",
        "colab_type": "text"
      },
      "source": [
        "<a href=\"https://colab.research.google.com/github/cmsierramo/Creaci-n-de-un-dashboard-en-HTML-usando-Jinja2/blob/master/Dashboard_Html_Jinja2.ipynb\" target=\"_parent\"><img src=\"https://colab.research.google.com/assets/colab-badge.svg\" alt=\"Open In Colab\"/></a>"
      ]
    },
    {
      "cell_type": "code",
      "metadata": {
        "id": "vArZMMqqDW0C",
        "colab_type": "code",
        "colab": {}
      },
      "source": [
        "import pandas as pd\n",
        "\n",
        "data = [[45939, 21574, 2876, 1815, 1646,   89,  555],\n",
        "        [60423, 29990, 4708, 2568, 2366, 1411,  733],\n",
        "        [64721, 32510, 5230, 2695, 2526, 1546,  773],\n",
        "        [68484, 35218, 6662, 2845, 2691, 1663,  836],\n",
        "        [71799, 37598, 6856, 3000, 2868, 1769,  911],\n",
        "        [76036, 40341, 8220, 3145, 3054, 1905, 1008],\n",
        "        [79831, 43173, 9053, 3338, 3224, 2005, 1076]]\n",
        "\n",
        "\n",
        "\n",
        "data = pd.DataFrame(\n",
        "    data = data,\n",
        "    index = [1951, 1956, 1957, 1958, 1959, 1960, 1961],\n",
        "    columns = ['N.Amer', 'Europe', 'Asia', 'S.Amer', 'Oceania', 'Africa', 'Mid.Amer']\n",
        ")\n",
        "\n",
        "data"
      ],
      "execution_count": null,
      "outputs": []
    },
    {
      "cell_type": "code",
      "metadata": {
        "id": "H3sm7QcvECWk",
        "colab_type": "code",
        "colab": {}
      },
      "source": [
        "for col in data.columns:\n",
        "    fig = data.plot.bar(y=col).get_figure().savefig('figs/' + col + '.png')"
      ],
      "execution_count": null,
      "outputs": []
    },
    {
      "cell_type": "code",
      "metadata": {
        "id": "w4FNG7_SECON",
        "colab_type": "code",
        "colab": {}
      },
      "source": [
        "!mkdir -p templates"
      ],
      "execution_count": 4,
      "outputs": []
    },
    {
      "cell_type": "code",
      "metadata": {
        "id": "V-_sgOWFLSrw",
        "colab_type": "code",
        "colab": {
          "base_uri": "https://localhost:8080/",
          "height": 34
        },
        "outputId": "6de4213a-14ea-4fd6-eeda-2d5b9e0f1d92"
      },
      "source": [
        "%%writefile templates/index.html\n",
        "\n",
        "<!DOCTYPE html>\n",
        "<html lang=\"en\">\n",
        "  <head>\n",
        "    <meta charset=\"utf-8\">\n",
        "    <title>Telephones</title>\n",
        "\n",
        "    <style>\n",
        "\n",
        "        body {\n",
        "          font-family: Arial, Helvetica, sans-serif;\n",
        "          padding-left: 10px;\n",
        "        }\n",
        "\n",
        "        header {\n",
        "            font-size: 20px;\n",
        "        }\n",
        "\n",
        "        nav {\n",
        "          float: left;\n",
        "          width: 20%;\n",
        "          height: 150px;\n",
        "          background: #eeeeee;\n",
        "          padding: 20px;\n",
        "        }\n",
        "\n",
        "        .seltext {\n",
        "            font-weight: bold;\n",
        "        }\n",
        "\n",
        "        .auxtext {\n",
        "            font-size: 14px;\n",
        "            color: #807F7F;\n",
        "        }\n",
        "\n",
        "    </style>\n",
        "\n",
        "  </head>\n",
        "  <body>\n",
        "\n",
        "    <header>\n",
        "      <h2>Telephones by region</h2>\n",
        "    </header>\n",
        "\n",
        "    <nav style=\"border:1px solid #BEBDBD; border-width:2px;\">\n",
        "      <p class=\"seltext\">Region:</p>\n",
        "      <select id=\"region\" name=\"region\"  onchange=\"selectPlot()\">\n",
        "\n",
        "        <!--- Este codigo se elimina\n",
        "        <option value=\"N.Amer\">N.Amer</option>\n",
        "        <option value=\"Europe\">Europe</option>\n",
        "        <option value=\"Asia\">Asia</option>\n",
        "        <option value=\"S.Amer\">S.Amer</option>\n",
        "        <option value=\"Oceania\">Oceania</option>\n",
        "        <option value=\"Africa\">Africa</option>\n",
        "        <option value=\"Mid.Amer\">Mid.Amer</option>\n",
        "        --->\n",
        "\n",
        "        <!--- Genera las opciones del menu usando Jinja2 --->\n",
        "\n",
        "        {% for i in regions %}\n",
        "            <option value=\"{{ i }}\">{{ i }}</option>\n",
        "        {% endfor %}\n",
        "\n",
        "        <!--- Fin de la modificacion --->\n",
        "\n",
        "      </select>\n",
        "      <br>\n",
        "      <hr>\n",
        "      <p class=\"auxtext\"> Data from AT&T (1961) The World's Telephones. </p>\n",
        "    </nav>\n",
        "\n",
        "    <div>\n",
        "\n",
        "      <!--- Este codigo se elimina\n",
        "      <div class=\"myImage\" id=\"N.Amer\"   style=\"display:block\"> <img src=\"figs/N.Amer.png\"   alt=\"N.Amer\">   </div>\n",
        "      <div class=\"myImage\" id=\"Europe\"   style=\"display:none\">  <img src=\"figs/Europe.png\"   alt=\"Europe\">   </div>\n",
        "      <div class=\"myImage\" id=\"Asia\"     style=\"display:none\">  <img src=\"figs/Asia.png\"     alt=\"Asia\">     </div>\n",
        "      <div class=\"myImage\" id=\"S.Amer\"   style=\"display:none\">  <img src=\"figs/S.Amer.png\"   alt=\"S.Amer\">   </div>\n",
        "      <div class=\"myImage\" id=\"Oceania\"  style=\"display:none\">  <img src=\"figs/Oceania.png\"  alt=\"Oceania\">  </div>\n",
        "      <div class=\"myImage\" id=\"Africa\"   style=\"display:none\">  <img src=\"figs/Africa.png\"   alt=\"Africa\">   </div>\n",
        "      <div class=\"myImage\" id=\"Mid.Amer\" style=\"display:none\">  <img src=\"figs/Mid.Amer.png\" alt=\"Mid.Amer\"> </div>\n",
        "      --->\n",
        "\n",
        "\n",
        "      <!--- Genera la division de cada imagen usando Jinja2 --->\n",
        "\n",
        "\n",
        "      {% for i in regions %}\n",
        "        {% if i == regions[0] %}\n",
        "          <div class=\"myImage\" id=\"{{ i }}\" style=\"display:block\"> <img src=\"figs/{{ i }}.png\" alt=\"{{ i }}\"> </div>\n",
        "        {% else %}\n",
        "          <div class=\"myImage\" id=\"{{ i }}\" style=\"display:none\"> <img src=\"figs/{{ i }}.png\" alt=\"{{ i }}\"> </div>\n",
        "        {% endif %}\n",
        "      {% endfor %}\n",
        "\n",
        "      <!--- Fin de la modificacion --->\n",
        "\n",
        "    </div>\n",
        "\n",
        "    <script>\n",
        "      function selectPlot() {\n",
        "        var region = document.getElementById(\"region\").value;\n",
        "        var images = document.getElementsByClassName(\"myImage\");\n",
        "        for (var i = 0; i < images.length; i++) {\n",
        "          if (images[i].id == region) {\n",
        "            images[i].style.display = \"block\"\n",
        "          }else{\n",
        "            images[i].style.display = \"none\"\n",
        "          }\n",
        "        }\n",
        "      }\n",
        "    </script>\n",
        "  </body>\n",
        "</html>"
      ],
      "execution_count": 5,
      "outputs": [
        {
          "output_type": "stream",
          "text": [
            "Writing templates/index.html\n"
          ],
          "name": "stdout"
        }
      ]
    },
    {
      "cell_type": "code",
      "metadata": {
        "id": "Pjgh_RgTLaQC",
        "colab_type": "code",
        "colab": {}
      },
      "source": [
        "from jinja2 import Template\n",
        "str = open('templates/index.html', 'r').read()\n",
        "template = Template(str)\n",
        "str = template.render(regions=data.columns.tolist())\n",
        "open('index.html', 'w').write(str);"
      ],
      "execution_count": 6,
      "outputs": []
    }
  ]
}